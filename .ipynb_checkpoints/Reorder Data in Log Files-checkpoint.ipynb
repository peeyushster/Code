{
 "cells": [
  {
   "cell_type": "markdown",
   "metadata": {},
   "source": [
    "You have an array of logs.  Each log is a space delimited string of words.\n",
    "\n",
    "For each log, the first word in each log is an alphanumeric identifier.  Then, either:\n",
    "\n",
    "Each word after the identifier will consist only of lowercase letters, or;\n",
    "Each word after the identifier will consist only of digits.\n",
    "We will call these two varieties of logs letter-logs and digit-logs.  It is guaranteed that each log has at least one word after its identifier.\n",
    "\n",
    "Reorder the logs so that all of the letter-logs come before any digit-log.  The letter-logs are ordered lexicographically ignoring identifier, with the identifier used in case of ties.  The digit-logs should be put in their original order.\n",
    "\n",
    "Return the final order of the logs.\n",
    "\n",
    " \n",
    "\n",
    "Example 1:\n",
    "\n",
    "Input: logs = [\"dig1 8 1 5 1\",\"let1 art can\",\"dig2 3 6\",\"let2 own kit dig\",\"let3 art zero\"]\n",
    "Output: [\"let1 art can\",\"let3 art zero\",\"let2 own kit dig\",\"dig1 8 1 5 1\",\"dig2 3 6\"]\n",
    " \n",
    "\n",
    "Constraints:\n",
    "\n",
    "0 <= logs.length <= 100\n",
    "3 <= logs[i].length <= 100\n",
    "logs[i] is guaranteed to have an identifier, and a word after the identifier."
   ]
  },
  {
   "cell_type": "code",
   "execution_count": null,
   "metadata": {},
   "outputs": [],
   "source": [
    "# Approach 1 (self)\n",
    "\n",
    "class Solution:\n",
    "    def reorderLogFiles(self, logs: List[str]) -> List[str]:\n",
    "        letter_logs = []\n",
    "        digit_logs = []\n",
    "        \n",
    "        for item in logs:\n",
    "            id_, rest = item.split(\" \", 1)\n",
    "            if rest[0].isnumeric():\n",
    "                digit_logs.append(item)\n",
    "            else:\n",
    "                letter_logs.append(rest + \" \" + id_)\n",
    "        \n",
    "        letter_logs.sort()\n",
    "        \n",
    "        final_letter_logs = []\n",
    "        for log in letter_logs:\n",
    "            log_arr = log.split(\" \")\n",
    "            \n",
    "            for item in log_arr[-1:]:\n",
    "                final_item = item\n",
    "            \n",
    "            for item in log_arr[:-1]:\n",
    "                final_item = final_item + \" \" + item\n",
    "            \n",
    "            final_letter_logs.append(final_item)\n",
    "            \n",
    "        return final_letter_logs + digit_logs"
   ]
  },
  {
   "cell_type": "code",
   "execution_count": null,
   "metadata": {},
   "outputs": [],
   "source": [
    "# Approach 2 (using sorted functionality)\n",
    "\n",
    "class Solution:\n",
    "    def reorderLogFiles(self, logs : List[str]) -> List[str]:\n",
    "        def getKeys(log):\n",
    "            id_ , rest = log.split(\" \", 1)\n",
    "            return (0, rest, id_) if rest[0].isalpha() else (1,)\n",
    "        \n",
    "        return sorted(logs, keys = getKeys)  "
   ]
  },
  {
   "cell_type": "code",
   "execution_count": null,
   "metadata": {},
   "outputs": [],
   "source": []
  }
 ],
 "metadata": {
  "kernelspec": {
   "display_name": "Python 3",
   "language": "python",
   "name": "python3"
  },
  "language_info": {
   "codemirror_mode": {
    "name": "ipython",
    "version": 3
   },
   "file_extension": ".py",
   "mimetype": "text/x-python",
   "name": "python",
   "nbconvert_exporter": "python",
   "pygments_lexer": "ipython3",
   "version": "3.7.2"
  }
 },
 "nbformat": 4,
 "nbformat_minor": 2
}
