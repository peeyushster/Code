{
 "cells": [
  {
   "cell_type": "markdown",
   "metadata": {},
   "source": [
    "Give an array A consisting of N integers, returns the maximum sum of two numbers whose digits add up to an equal sum. If there are no two mumbers whose digits have an equal sum, the function should return -1.\n",
    "\n",
    "Examples:\n",
    "1. Given A = [51, 71, 17, 42], the function should return 93. There are two pairs of numbers whose digits add up to an equal sum: (51, 42) and (17, 71). The first pair sums up to 93.\n",
    "2. Given A = [42,33,60], the function should return 102. The digits of all numbers in A add up to the same sum, and choosing to add 42 and 60 gives the result 102.\n",
    "3. Given A = [51,32,43], the function should return -1, since all numbers in A have digits that add up to different, unique sums\n",
    "\n",
    "Each number in A > 0"
   ]
  },
  {
   "cell_type": "code",
   "execution_count": 90,
   "metadata": {},
   "outputs": [],
   "source": [
    "def solution(nums):\n",
    "    result = -1\n",
    "    hmap = {}\n",
    "    for item in nums:\n",
    "        item_sum = getSum(item)\n",
    "        if item_sum in hmap:\n",
    "            value = abs(hmap[item_sum]) + item\n",
    "            if value > result:\n",
    "                result = value\n",
    "        else:\n",
    "            hmap[item_sum] = -1 * item\n",
    "            \n",
    "    return result\n",
    "\n",
    "def getSum(item):\n",
    "    item_sum = 0\n",
    "    while(item > 0):\n",
    "        item_sum += item%10\n",
    "        item = int(item/10)\n",
    "    if item_sum > 9:\n",
    "        return getSum(item_sum)\n",
    "    else:\n",
    "        return item_sum\n",
    "        "
   ]
  },
  {
   "cell_type": "code",
   "execution_count": 92,
   "metadata": {},
   "outputs": [
    {
     "data": {
      "text/plain": [
       "120"
      ]
     },
     "execution_count": 92,
     "metadata": {},
     "output_type": "execute_result"
    }
   ],
   "source": [
    "solution([60, 60 ,60])"
   ]
  },
  {
   "cell_type": "code",
   "execution_count": null,
   "metadata": {},
   "outputs": [],
   "source": []
  },
  {
   "cell_type": "code",
   "execution_count": null,
   "metadata": {},
   "outputs": [],
   "source": []
  }
 ],
 "metadata": {
  "kernelspec": {
   "display_name": "Python 3",
   "language": "python",
   "name": "python3"
  },
  "language_info": {
   "codemirror_mode": {
    "name": "ipython",
    "version": 3
   },
   "file_extension": ".py",
   "mimetype": "text/x-python",
   "name": "python",
   "nbconvert_exporter": "python",
   "pygments_lexer": "ipython3",
   "version": "3.7.2"
  }
 },
 "nbformat": 4,
 "nbformat_minor": 2
}
