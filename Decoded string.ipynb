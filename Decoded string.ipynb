{
 "cells": [
  {
   "cell_type": "code",
   "execution_count": 34,
   "metadata": {},
   "outputs": [
    {
     "name": "stdout",
     "output_type": "stream",
     "text": [
      "[3, 2]\n",
      "['c', 'b']\n",
      "[2]\n",
      "['b']\n",
      "cccbb\n"
     ]
    }
   ],
   "source": [
    "# Sample 1 : 3[a]2[bc]\n",
    "# Sample 2 : 2[b3[c]]\n",
    "# Sample 3 : 2[a]5[e]fg\n",
    "# Sample 4 : 10[a]3[b]\n",
    "\n",
    "\n",
    "def decodeString(s):\n",
    "    counts = []\n",
    "    strings = []\n",
    "    idx = 0\n",
    "    result = \"\"\n",
    "    temp = \"\"\n",
    "    while(idx < len(s)):\n",
    "        if s[idx].isnumeric():\n",
    "            count = 0\n",
    "            while s[idx].isnumeric():\n",
    "                counter = 10 * count + int(s[idx])\n",
    "                count += 1\n",
    "                idx += 1\n",
    "            counts.insert(0, counter)\n",
    "        elif s[idx] == \"[\":\n",
    "            idx += 1\n",
    "            temp = \"\"\n",
    "            while s[idx].isalpha():\n",
    "                temp += s[idx]\n",
    "                idx +=1\n",
    "            strings.insert(0, temp)\n",
    "        elif s[idx] == \"]\":\n",
    "            print(counts)\n",
    "            print(strings)\n",
    "            repeat = counts.pop(0)\n",
    "            value = strings.pop(0)\n",
    "            idx+=1\n",
    "            for i in range(repeat):\n",
    "                result += value\n",
    "        else: \n",
    "            result += s[idx]\n",
    "            idx+=1\n",
    "    return result\n",
    "    \n",
    "\n",
    "sample1 = \"3[a]2[bc]\"\n",
    "sample2 = \"2[b3[c]]\"\n",
    "sample3 = \"2[a]5[e]fg\"\n",
    "sample4 = \"10[a]3[b]\"\n",
    "print(decodeString(sample2))"
   ]
  },
  {
   "cell_type": "code",
   "execution_count": null,
   "metadata": {},
   "outputs": [],
   "source": []
  }
 ],
 "metadata": {
  "kernelspec": {
   "display_name": "Python 3",
   "language": "python",
   "name": "python3"
  },
  "language_info": {
   "codemirror_mode": {
    "name": "ipython",
    "version": 3
   },
   "file_extension": ".py",
   "mimetype": "text/x-python",
   "name": "python",
   "nbconvert_exporter": "python",
   "pygments_lexer": "ipython3",
   "version": "3.7.2"
  }
 },
 "nbformat": 4,
 "nbformat_minor": 2
}
