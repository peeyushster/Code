{
 "cells": [
  {
   "cell_type": "markdown",
   "metadata": {},
   "source": [
    "In a row of trees, the i-th tree produces fruit with type tree[i].\n",
    "\n",
    "You start at any tree of your choice, then repeatedly perform the following steps:\n",
    "\n",
    "Add one piece of fruit from this tree to your baskets.  If you cannot, stop.\n",
    "Move to the next tree to the right of the current tree.  If there is no tree to the right, stop.\n",
    "Note that you do not have any choice after the initial choice of starting tree: you must perform step 1, then step 2, then back to step 1, then step 2, and so on until you stop.\n",
    "\n",
    "You have two baskets, and each basket can carry any quantity of fruit, but you want each basket to only carry one type of fruit each.\n",
    "\n",
    "What is the total amount of fruit you can collect with this procedure?\n",
    "\n",
    " \n",
    "\n",
    "Example 1:\n",
    "\n",
    "Input: [1,2,1]\n",
    "Output: 3\n",
    "Explanation: We can collect [1,2,1].\n",
    "Example 2:\n",
    "\n",
    "Input: [0,1,2,2]\n",
    "Output: 3\n",
    "Explanation: We can collect [1,2,2].\n",
    "If we started at the first tree, we would only collect [0, 1].\n",
    "Example 3:\n",
    "\n",
    "Input: [1,2,3,2,2]\n",
    "Output: 4\n",
    "Explanation: We can collect [2,3,2,2].\n",
    "If we started at the first tree, we would only collect [1, 2].\n",
    "Example 4:\n",
    "\n",
    "Input: [3,3,3,1,2,1,1,2,3,3,4]\n",
    "Output: 5\n",
    "Explanation: We can collect [1,2,1,1,2].\n",
    "If we started at the first tree or the eighth tree, we would only collect 4 fruits.\n",
    " \n",
    "\n"
   ]
  },
  {
   "cell_type": "code",
   "execution_count": 21,
   "metadata": {},
   "outputs": [],
   "source": [
    "class Solution(object):\n",
    "    def totalFruit(self, tree):\n",
    "        blocks = [(k, len(list(v)))\n",
    "                  for k, v in itertools.groupby(tree)]\n",
    "\n",
    "        ans = i = 0\n",
    "        while i < len(blocks):\n",
    "            # We'll start our scan at block[i].\n",
    "            # types : the different values of tree[i] seen\n",
    "            # weight : the total number of trees represented\n",
    "            #          by blocks under consideration\n",
    "            types, weight = set(), 0\n",
    "\n",
    "            # For each block from i and going forward,\n",
    "            for j in range(i, len(blocks)):\n",
    "                # Add each block to consideration\n",
    "                types.add(blocks[j][0])\n",
    "                weight += blocks[j][1]\n",
    "\n",
    "                # If we have 3 types, this is not a legal subarray\n",
    "                if len(types) >= 3:\n",
    "                    i = j-1\n",
    "                    break\n",
    "\n",
    "                ans = max(ans, weight)\n",
    "\n",
    "            # If we go to the last block, then stop\n",
    "            else:\n",
    "                break\n",
    "\n",
    "        return ans"
   ]
  },
  {
   "cell_type": "code",
   "execution_count": 22,
   "metadata": {},
   "outputs": [
    {
     "data": {
      "text/plain": [
       "7"
      ]
     },
     "execution_count": 22,
     "metadata": {},
     "output_type": "execute_result"
    }
   ],
   "source": [
    "s = Solution()\n",
    "s.totalFruit([1,1,1,2,2,3,4,5,5,6,6,6,6,6])"
   ]
  }
 ],
 "metadata": {
  "kernelspec": {
   "display_name": "Python 3",
   "language": "python",
   "name": "python3"
  },
  "language_info": {
   "codemirror_mode": {
    "name": "ipython",
    "version": 3
   },
   "file_extension": ".py",
   "mimetype": "text/x-python",
   "name": "python",
   "nbconvert_exporter": "python",
   "pygments_lexer": "ipython3",
   "version": "3.6.8"
  }
 },
 "nbformat": 4,
 "nbformat_minor": 2
}
