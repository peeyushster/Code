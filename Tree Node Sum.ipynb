{
 "cells": [
  {
   "cell_type": "markdown",
   "metadata": {},
   "source": [
    "Determine the sum of nodes of a Binary tree. Binary tree is provided as a list of numbers in an array. "
   ]
  },
  {
   "cell_type": "code",
   "execution_count": null,
   "metadata": {},
   "outputs": [],
   "source": [
    "import numpy as np\n",
    "\n",
    "def sumTreeNodes(tree):\n",
    "    index = 0\n",
    "    result = []\n",
    "    # find the total iterations that are required\n",
    "    # assuming the tree provided is a Binary tree\n",
    "    interval = np.log(len(tree))/np.log(2) \n",
    "    \n",
    "    # setting loop to go from 0 to interval length\n",
    "    for i in range(int(interval + 1)):\n",
    "        item = 0\n",
    "        # how much items from tree needs to be gathered \n",
    "        passLength = 2**i + index\n",
    "        \n",
    "        # loop and add all the items with check to not\n",
    "        # overdraw\n",
    "        while(index < passLength):\n",
    "            if index >= len(tree):\n",
    "                break \n",
    "            item += tree[index]\n",
    "            index+= 1 \n",
    "        \n",
    "        if(item):\n",
    "            result.append(item)\n",
    "    # return the desired list\n",
    "    return result    "
   ]
  },
  {
   "cell_type": "code",
   "execution_count": 133,
   "metadata": {},
   "outputs": [
    {
     "name": "stdout",
     "output_type": "stream",
     "text": [
      "[2, 8, 46, 23]\n"
     ]
    }
   ],
   "source": [
    "tree = [0,1,1,2,2,2,2,3,5,6,7,8,9,5,3,3,3,3,3,3,3,5]\n",
    "result = sumTreeNodes(tree)\n",
    "print(result)"
   ]
  }
 ],
 "metadata": {
  "kernelspec": {
   "display_name": "Python 3",
   "language": "python",
   "name": "python3"
  },
  "language_info": {
   "codemirror_mode": {
    "name": "ipython",
    "version": 3
   },
   "file_extension": ".py",
   "mimetype": "text/x-python",
   "name": "python",
   "nbconvert_exporter": "python",
   "pygments_lexer": "ipython3",
   "version": "3.6.8"
  }
 },
 "nbformat": 4,
 "nbformat_minor": 2
}
