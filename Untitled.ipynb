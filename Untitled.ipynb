{
 "cells": [
  {
   "cell_type": "markdown",
   "metadata": {},
   "source": [
    "You are given a string S consistig of N letters 'a' and/or 'b'. In one move, you can swap one letter for the other ('a' for 'b' or 'b' for 'a')\n",
    "\n",
    "Write a function solution that, given such a string S, returns the minimum number of moves required to obtain a string containing no instances of three identical consecutive letters. \n",
    "\n",
    "Examples:\n",
    "1. Given S = \"baaaaa\", the function should return 1. The string without three consecutive letters which can be obtained in one move is \"baabaa\".\n",
    "\n",
    "2. Given S = \"baaabbaabbba\", the function should return 2. There are four valid strings obtainable in two moves: for example \"bbaabbaabbaa\"\n",
    "\n",
    "3. Given S= \"baabab\", the function should return 0.\n",
    "\n",
    "Write an efficient algorithm for the following assumptions:\n",
    "    N is between [0, 200,000]\n",
    "    S consist of only \"a\" and/or \"b"
   ]
  },
  {
   "cell_type": "code",
   "execution_count": 50,
   "metadata": {},
   "outputs": [],
   "source": [
    "## Approach # 1\n",
    "def solution(s):\n",
    "    idx = 0\n",
    "    s = list(s)\n",
    "    n = len(s)\n",
    "    min_steps = 0\n",
    "    count_a = 0\n",
    "    count_b = 0\n",
    "    \n",
    "    while(idx < n):\n",
    "        count_a = count_b = 0\n",
    "        \n",
    "        while idx < n and s[idx] == 'a' and count_a < 5:\n",
    "            count_a += 1\n",
    "            idx += 1\n",
    "        \n",
    "        if count_a == 3:\n",
    "            s[idx - 2] = 'b'\n",
    "            min_steps += 1 \n",
    "        elif count_a > 3 and count_a <= 5:\n",
    "            s[idx - 3] = 'b' \n",
    "            min_steps += 1\n",
    "            idx = count_a - 2\n",
    "        \n",
    "        while idx < n and s[idx] == 'b' and count_b < 5:\n",
    "            count_b += 1\n",
    "            idx+= 1\n",
    "        \n",
    "        if count_b == 3:\n",
    "            s[idx - 2] = 'a'\n",
    "            min_steps += 1 \n",
    "        elif count_b > 3 and count_b <= 5:\n",
    "            s[idx - 3] = 'a'\n",
    "            min_steps += 1 \n",
    "            idx = count_b - 2\n",
    "            \n",
    "    print(s)\n",
    "    return min_steps"
   ]
  },
  {
   "cell_type": "code",
   "execution_count": 51,
   "metadata": {},
   "outputs": [
    {
     "name": "stdout",
     "output_type": "stream",
     "text": [
      "['b', 'a', 'b', 'a', 'b', 'a', 'b', 'a', 'b', 'a', 'b']\n"
     ]
    },
    {
     "data": {
      "text/plain": [
       "3"
      ]
     },
     "execution_count": 51,
     "metadata": {},
     "output_type": "execute_result"
    }
   ],
   "source": [
    "solution(\"bbbabbbabbb\")"
   ]
  },
  {
   "cell_type": "markdown",
   "metadata": {},
   "source": [
    "Alternate approach as suggested on Leetcode"
   ]
  },
  {
   "cell_type": "code",
   "execution_count": 52,
   "metadata": {},
   "outputs": [],
   "source": [
    "from itertools import groupby\n",
    "\n",
    "def minMove(S):\n",
    "    return sum(len(list(g)) // 3 for _, g in groupby(S))\n"
   ]
  },
  {
   "cell_type": "code",
   "execution_count": 68,
   "metadata": {},
   "outputs": [
    {
     "data": {
      "text/plain": [
       "1"
      ]
     },
     "execution_count": 68,
     "metadata": {},
     "output_type": "execute_result"
    }
   ],
   "source": [
    "minMove(\"baaaaa\")"
   ]
  },
  {
   "cell_type": "markdown",
   "metadata": {},
   "source": [
    "Another approach without printing the output string"
   ]
  },
  {
   "cell_type": "code",
   "execution_count": 75,
   "metadata": {},
   "outputs": [],
   "source": [
    "## Approach # 2\n",
    "def solution(s):\n",
    "    idx = 0\n",
    "    n = len(s)\n",
    "    min_steps = 0\n",
    "    count_a = 0\n",
    "    count_b = 0\n",
    "    \n",
    "    while(idx < n):\n",
    "        count_a = count_b = 0\n",
    "        \n",
    "        while idx < n and s[idx] == 'a' :\n",
    "            count_a += 1\n",
    "            idx += 1\n",
    "        \n",
    "        while idx < n and s[idx] == 'b' :\n",
    "            count_b += 1\n",
    "            idx+= 1\n",
    "        \n",
    "        min_steps += count_a//3 + count_b//3\n",
    "            \n",
    "    return min_steps"
   ]
  },
  {
   "cell_type": "code",
   "execution_count": 77,
   "metadata": {},
   "outputs": [
    {
     "data": {
      "text/plain": [
       "1"
      ]
     },
     "execution_count": 77,
     "metadata": {},
     "output_type": "execute_result"
    }
   ],
   "source": [
    "solution(\"baaaaa\")"
   ]
  },
  {
   "cell_type": "code",
   "execution_count": null,
   "metadata": {},
   "outputs": [],
   "source": []
  }
 ],
 "metadata": {
  "kernelspec": {
   "display_name": "Python 3",
   "language": "python",
   "name": "python3"
  },
  "language_info": {
   "codemirror_mode": {
    "name": "ipython",
    "version": 3
   },
   "file_extension": ".py",
   "mimetype": "text/x-python",
   "name": "python",
   "nbconvert_exporter": "python",
   "pygments_lexer": "ipython3",
   "version": "3.7.2"
  }
 },
 "nbformat": 4,
 "nbformat_minor": 2
}
